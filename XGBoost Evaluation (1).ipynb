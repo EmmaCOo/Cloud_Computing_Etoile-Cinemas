{
 "cells": [
  {
   "cell_type": "code",
   "execution_count": 2,
   "metadata": {
    "scrolled": true
   },
   "outputs": [],
   "source": [
    "import numpy as np\n",
    "import pandas as pd\n",
    "import matplotlib as mpl\n",
    "import matplotlib.pyplot as plt\n",
    "import seaborn as sns\n",
    "import statsmodels.api as sm\n",
    "import sklearn.model_selection\n",
    "from sklearn.linear_model import LinearRegression\n",
    "from sklearn.metrics import mean_squared_error, r2_score\n",
    "from sklearn.preprocessing import KBinsDiscretizer\n",
    "from sklearn.tree import DecisionTreeRegressor"
   ]
  },
  {
   "cell_type": "code",
   "execution_count": 3,
   "metadata": {},
   "outputs": [
    {
     "name": "stdout",
     "output_type": "stream",
     "text": [
      "C:\\Users\\Juliet\\Desktop\\ADS\n"
     ]
    }
   ],
   "source": [
    "%cd C:/Users/Juliet/Desktop/ADS"
   ]
  },
  {
   "cell_type": "code",
   "execution_count": 4,
   "metadata": {},
   "outputs": [],
   "source": [
    "#This file has edited out int, both rank values, and grossw and then group by movie name\n",
    "#This allows for a much smaller dataset and elimates data we would not have access to before a movie release\n",
    "\n",
    "movie= pd.read_csv('movieedit.csv', header=0, sep=',')"
   ]
  },
  {
   "cell_type": "code",
   "execution_count": 5,
   "metadata": {},
   "outputs": [
    {
     "data": {
      "text/html": [
       "<div>\n",
       "<style scoped>\n",
       "    .dataframe tbody tr th:only-of-type {\n",
       "        vertical-align: middle;\n",
       "    }\n",
       "\n",
       "    .dataframe tbody tr th {\n",
       "        vertical-align: top;\n",
       "    }\n",
       "\n",
       "    .dataframe thead th {\n",
       "        text-align: right;\n",
       "    }\n",
       "</style>\n",
       "<table border=\"1\" class=\"dataframe\">\n",
       "  <thead>\n",
       "    <tr style=\"text-align: right;\">\n",
       "      <th></th>\n",
       "      <th>MovieName</th>\n",
       "      <th>Avg_GrossW</th>\n",
       "      <th>Metascore</th>\n",
       "      <th>Meta_Pos_Count</th>\n",
       "      <th>Meta_Neut_Count</th>\n",
       "      <th>Meta_Neg_Count</th>\n",
       "      <th>User_Score</th>\n",
       "      <th>User_Pos_Count</th>\n",
       "      <th>User_Neut_Count</th>\n",
       "      <th>User_Neg_Count</th>\n",
       "      <th>Runtime_Value</th>\n",
       "      <th>Rated</th>\n",
       "    </tr>\n",
       "  </thead>\n",
       "  <tbody>\n",
       "    <tr>\n",
       "      <th>0</th>\n",
       "      <td>'71</td>\n",
       "      <td>127085</td>\n",
       "      <td>83</td>\n",
       "      <td>32</td>\n",
       "      <td>2</td>\n",
       "      <td>0</td>\n",
       "      <td>7.5</td>\n",
       "      <td>119</td>\n",
       "      <td>2</td>\n",
       "      <td>6</td>\n",
       "      <td>99</td>\n",
       "      <td>7</td>\n",
       "    </tr>\n",
       "    <tr>\n",
       "      <th>1</th>\n",
       "      <td>10 Cloverfield Lane</td>\n",
       "      <td>6006917</td>\n",
       "      <td>76</td>\n",
       "      <td>38</td>\n",
       "      <td>3</td>\n",
       "      <td>2</td>\n",
       "      <td>7.7</td>\n",
       "      <td>796</td>\n",
       "      <td>3</td>\n",
       "      <td>2</td>\n",
       "      <td>104</td>\n",
       "      <td>7</td>\n",
       "    </tr>\n",
       "    <tr>\n",
       "      <th>2</th>\n",
       "      <td>10 Items or Less</td>\n",
       "      <td>27764</td>\n",
       "      <td>54</td>\n",
       "      <td>9</td>\n",
       "      <td>8</td>\n",
       "      <td>3</td>\n",
       "      <td>5.6</td>\n",
       "      <td>4</td>\n",
       "      <td>1</td>\n",
       "      <td>3</td>\n",
       "      <td>82</td>\n",
       "      <td>3</td>\n",
       "    </tr>\n",
       "  </tbody>\n",
       "</table>\n",
       "</div>"
      ],
      "text/plain": [
       "             MovieName  Avg_GrossW  Metascore  Meta_Pos_Count  \\\n",
       "0                  '71      127085         83              32   \n",
       "1  10 Cloverfield Lane     6006917         76              38   \n",
       "2     10 Items or Less       27764         54               9   \n",
       "\n",
       "   Meta_Neut_Count  Meta_Neg_Count  User_Score  User_Pos_Count  \\\n",
       "0                2               0         7.5             119   \n",
       "1                3               2         7.7             796   \n",
       "2                8               3         5.6               4   \n",
       "\n",
       "   User_Neut_Count  User_Neg_Count  Runtime_Value  Rated  \n",
       "0                2               6             99      7  \n",
       "1                3               2            104      7  \n",
       "2                1               3             82      3  "
      ]
     },
     "execution_count": 5,
     "metadata": {},
     "output_type": "execute_result"
    }
   ],
   "source": [
    "movie.head(3)"
   ]
  },
  {
   "cell_type": "code",
   "execution_count": 6,
   "metadata": {},
   "outputs": [
    {
     "name": "stdout",
     "output_type": "stream",
     "text": [
      "Shape of X: (4710, 10)\n",
      "Shape of Y: (4710, 1)\n",
      "Training: 4239\n",
      "Validation: 236\n",
      "Test: 235\n"
     ]
    }
   ],
   "source": [
    "# Initialize X and Y\n",
    "X = movie.drop(['MovieName','Avg_GrossW'], axis=1)\n",
    "Y = pd.DataFrame(movie[['Avg_GrossW']])\n",
    "\n",
    "# Check shape\n",
    "print (f'Shape of X: {X.shape}')\n",
    "print (f'Shape of Y: {Y.shape}')\n",
    "\n",
    "# Split data into test, train, and validation sets\n",
    "X_train, X_test, Y_train, Y_test = sklearn.model_selection.train_test_split(X, Y, train_size=0.9)\n",
    "X_test, X_val, Y_test, Y_val = sklearn.model_selection.train_test_split(X_test, Y_test, test_size=0.5)\n",
    "\n",
    "# Check split dimensions\n",
    "print('Training:',len(X_train))\n",
    "print('Validation:', len(X_val))\n",
    "print('Test:', len(X_test))"
   ]
  },
  {
   "cell_type": "code",
   "execution_count": 7,
   "metadata": {},
   "outputs": [
    {
     "name": "stdout",
     "output_type": "stream",
     "text": [
      "Coefficient of Determination: 0.31728957453293294\n",
      "intercept: [378534.35219031]\n",
      "slope: [[ -42541.54025927   89981.68188259  197788.38934463   61786.14209896\n",
      "  -124846.45968642    7032.95172115   48482.91572898    1824.42908274\n",
      "    17718.86701823 -242131.7231482 ]]\n"
     ]
    }
   ],
   "source": [
    "# Fit Linear Regression\n",
    "linear_reg = LinearRegression().fit(X_train, Y_train)\n",
    "\n",
    "# Obtain Coefficient of Determination\n",
    "r_sq = linear_reg.score(X_train, Y_train)\n",
    "print(f'Coefficient of Determination: {r_sq}')\n",
    "print(f'intercept: {linear_reg.intercept_}')\n",
    "print(f'slope: {linear_reg.coef_}')"
   ]
  },
  {
   "cell_type": "code",
   "execution_count": 8,
   "metadata": {},
   "outputs": [
    {
     "name": "stdout",
     "output_type": "stream",
     "text": [
      "Linear Regression Model\n",
      "Accuracy Score 0.20076613359134166\n"
     ]
    }
   ],
   "source": [
    "linear_reg_pred1 = linear_reg.predict(X_val)\n",
    "linear_reg_pred2 = linear_reg.predict(X_test)\n",
    "\n",
    "# Accuracy and Classication\n",
    "print('Linear Regression Model')\n",
    "print(f'Accuracy Score {r2_score(Y_test, linear_reg_pred2)}')"
   ]
  },
  {
   "cell_type": "code",
   "execution_count": 9,
   "metadata": {},
   "outputs": [
    {
     "name": "stderr",
     "output_type": "stream",
     "text": [
      "C:\\Users\\Juliet\\miniconda3\\lib\\site-packages\\xgboost\\compat.py:36: FutureWarning: pandas.Int64Index is deprecated and will be removed from pandas in a future version. Use pandas.Index with the appropriate dtype instead.\n",
      "  from pandas import MultiIndex, Int64Index\n"
     ]
    },
    {
     "name": "stdout",
     "output_type": "stream",
     "text": [
      "[11:11:50] WARNING: C:/Users/Administrator/workspace/xgboost-win64_release_1.5.1/src/objective/regression_obj.cu:188: reg:linear is now deprecated in favor of reg:squarederror.\n"
     ]
    },
    {
     "data": {
      "text/plain": [
       "{'f0': 195.0,\n",
       " 'f1': 110.0,\n",
       " 'f2': 93.0,\n",
       " 'f3': 82.0,\n",
       " 'f4': 55.0,\n",
       " 'f5': 86.0,\n",
       " 'f6': 107.0,\n",
       " 'f7': 73.0,\n",
       " 'f8': 67.0,\n",
       " 'f9': 110.0,\n",
       " 'f10': 31.0}"
      ]
     },
     "execution_count": 9,
     "metadata": {},
     "output_type": "execute_result"
    }
   ],
   "source": [
    "import s3fs\n",
    "import pickle\n",
    "import tarfile\n",
    "import xgboost\n",
    "\n",
    "model_path = 'C:/Users/Juliet/Desktop/ADS/model.tar.gz'\n",
    "\n",
    "file = tarfile.open(model_path)\n",
    "with tarfile.open(model_path, mode='r') as tar_f:\n",
    "        with tar_f.extractfile('xgboost-model') as extracted_f:\n",
    "            xgbooster = pickle.load(extracted_f)\n",
    "\n",
    "scores = xgbooster.get_fscore()\n",
    "scores"
   ]
  },
  {
   "cell_type": "code",
   "execution_count": 10,
   "metadata": {},
   "outputs": [
    {
     "data": {
      "text/plain": [
       "<AxesSubplot:title={'center':'Feature Importance'}, ylabel='features'>"
      ]
     },
     "execution_count": 10,
     "metadata": {},
     "output_type": "execute_result"
    },
    {
     "data": {
      "image/png": "[encoded data removed]",
      "text/plain": [
       "<Figure size 432x288 with 1 Axes>"
      ]
     },
     "metadata": {
      "needs_background": "light"
     },
     "output_type": "display_data"
    }
   ],
   "source": [
    "# Plot them\n",
    "features = X.columns\n",
    "importance=np.array([0]*len(features))\n",
    "for score in scores:\n",
    "    num = score[1:]\n",
    "    importance[int(num) - 1] = scores[score]\n",
    "feature_importance = pd.DataFrame({ 'features': features ,'score': importance}).sort_values('score')\n",
    "feature_importance.plot.barh(x='features',title='Feature Importance',legend=False)\n"
   ]
  },
  {
   "cell_type": "code",
   "execution_count": 11,
   "metadata": {},
   "outputs": [],
   "source": [
    "# Load predictions\n",
    "Y_pred = pd.read_csv('C:/Users/Juliet/Desktop/ADS/test.csv.out', header=None)"
   ]
  },
  {
   "cell_type": "code",
   "execution_count": 12,
   "metadata": {},
   "outputs": [
    {
     "data": {
      "text/plain": [
       "Text(0.5, 1.0, 'Median GrossW vs Predicted GrossW')"
      ]
     },
     "execution_count": 12,
     "metadata": {},
     "output_type": "execute_result"
    },
    {
     "data": {
      "image/png": "[encoded data removed]",
      "text/plain": [
       "<Figure size 432x288 with 1 Axes>"
      ]
     },
     "metadata": {
      "needs_background": "light"
     },
     "output_type": "display_data"
    }
   ],
   "source": [
    "# Visualize the predictions vs the true values\n",
    "plt.scatter(Y_test, Y_pred)\n",
    "plt.xlabel(\"Median GrossW\")\n",
    "plt.ylabel(\"Predicted GrossW\")\n",
    "plt.title(\"Median GrossW vs Predicted GrossW\")"
   ]
  },
  {
   "cell_type": "code",
   "execution_count": 41,
   "metadata": {},
   "outputs": [
    {
     "ename": "AttributeError",
     "evalue": "'Booster' object has no attribute 'fit'",
     "output_type": "error",
     "traceback": [
      "\u001b[1;31m---------------------------------------------------------------------------\u001b[0m",
      "\u001b[1;31mAttributeError\u001b[0m                            Traceback (most recent call last)",
      "Input \u001b[1;32mIn [41]\u001b[0m, in \u001b[0;36m<cell line: 8>\u001b[1;34m()\u001b[0m\n\u001b[0;32m      6\u001b[0m cv \u001b[38;5;241m=\u001b[39m RepeatedKFold(n_splits\u001b[38;5;241m=\u001b[39m\u001b[38;5;241m10\u001b[39m, n_repeats\u001b[38;5;241m=\u001b[39m\u001b[38;5;241m3\u001b[39m)\n\u001b[0;32m      7\u001b[0m \u001b[38;5;66;03m# evaluate model\u001b[39;00m\n\u001b[1;32m----> 8\u001b[0m scores \u001b[38;5;241m=\u001b[39m cross_val_score(\u001b[43mxgbooster\u001b[49m\u001b[38;5;241;43m.\u001b[39;49m\u001b[43mfit\u001b[49m(\u001b[38;5;28mself\u001b[39m, X, Y), X, Y, scoring\u001b[38;5;241m=\u001b[39m\u001b[38;5;124m'\u001b[39m\u001b[38;5;124mneg_mean_absolute_error\u001b[39m\u001b[38;5;124m'\u001b[39m, cv\u001b[38;5;241m=\u001b[39mcv, n_jobs\u001b[38;5;241m=\u001b[39m\u001b[38;5;241m-\u001b[39m\u001b[38;5;241m1\u001b[39m)\n",
      "\u001b[1;31mAttributeError\u001b[0m: 'Booster' object has no attribute 'fit'"
     ]
    }
   ],
   "source": [
    "from sklearn.model_selection import cross_val_score\n",
    "from sklearn.model_selection import RepeatedKFold\n",
    "\n",
    "...\n",
    "# define model evaluation method\n",
    "cv = RepeatedKFold(n_splits=10, n_repeats=3)\n",
    "# evaluate model\n",
    "scores = cross_val_score(xgbooster.fit(self, X, Y), X, Y, scoring='neg_mean_absolute_error', cv=cv, n_jobs=-1)"
   ]
  },
  {
   "cell_type": "code",
   "execution_count": 46,
   "metadata": {},
   "outputs": [
    {
     "name": "stdout",
     "output_type": "stream",
     "text": [
      "-0.5929597545242264\n"
     ]
    }
   ],
   "source": [
    "from sklearn.metrics import r2_score\n",
    "\n",
    "print(r2_score(Y_test, Y_pred))"
   ]
  },
  {
   "cell_type": "code",
   "execution_count": null,
   "metadata": {},
   "outputs": [],
   "source": []
  }
 ],
 "metadata": {
  "kernelspec": {
   "display_name": "Python 3 (ipykernel)",
   "language": "python",
   "name": "python3"
  },
  "language_info": {
   "codemirror_mode": {
    "name": "ipython",
    "version": 3
   },
   "file_extension": ".py",
   "mimetype": "text/x-python",
   "name": "python",
   "nbconvert_exporter": "python",
   "pygments_lexer": "ipython3",
   "version": "3.8.3"
  }
 },
 "nbformat": 4,
 "nbformat_minor": 4
}
